{
  "nbformat": 4,
  "nbformat_minor": 0,
  "metadata": {
    "colab": {
      "name": "RL-Grid.ipynb",
      "version": "0.3.2",
      "provenance": [],
      "toc_visible": true,
      "include_colab_link": true
    },
    "kernelspec": {
      "name": "python3",
      "display_name": "Python 3"
    }
  },
  "cells": [
    {
      "cell_type": "markdown",
      "metadata": {
        "id": "view-in-github",
        "colab_type": "text"
      },
      "source": [
        "<a href=\"https://colab.research.google.com/github/MarcFriz/Understand-RL/blob/master/RL_Grid.ipynb\" target=\"_parent\"><img src=\"https://colab.research.google.com/assets/colab-badge.svg\" alt=\"Open In Colab\"/></a>"
      ]
    },
    {
      "metadata": {
        "id": "RIp6C9zKl4Lm",
        "colab_type": "text"
      },
      "cell_type": "markdown",
      "source": [
        "# Understand reinforcement learning\n",
        "\n",
        "Try out a simple reinforcement learning Algorithm "
      ]
    },
    {
      "metadata": {
        "id": "cvgaQ98nDP96",
        "colab_type": "code",
        "outputId": "b035e47e-e752-4ab9-f056-722be6b82169",
        "colab": {
          "base_uri": "https://localhost:8080/",
          "height": 34
        }
      },
      "cell_type": "code",
      "source": [
        "!pip install numpy"
      ],
      "execution_count": 2,
      "outputs": [
        {
          "output_type": "stream",
          "text": [
            "Requirement already satisfied: numpy in /usr/local/lib/python3.6/dist-packages (1.14.6)\n"
          ],
          "name": "stdout"
        }
      ]
    },
    {
      "metadata": {
        "id": "hY0ZxqT8EBvR",
        "colab_type": "code",
        "colab": {}
      },
      "cell_type": "code",
      "source": [
        "# !pip list"
      ],
      "execution_count": 0,
      "outputs": []
    },
    {
      "metadata": {
        "id": "UYF15I7Fmvg2",
        "colab_type": "text"
      },
      "cell_type": "markdown",
      "source": [
        "#  Step 1 - Setup"
      ]
    },
    {
      "metadata": {
        "id": "pFm91tT3DVsI",
        "colab_type": "code",
        "colab": {}
      },
      "cell_type": "code",
      "source": [
        "import matplotlib.pyplot as plt\n",
        "import numpy as np\n",
        "from collections import namedtuple\n",
        "import itertools\n",
        "import tensorflow as tf\n",
        "\n",
        "\n",
        "np.set_printoptions(precision=3, suppress=1)\n",
        "plt.style.use('seaborn-notebook')\n",
        "plt.style.use('seaborn-whitegrid')\n",
        "\n",
        "tf.logging.set_verbosity(tf.logging.ERROR)"
      ],
      "execution_count": 0,
      "outputs": []
    },
    {
      "metadata": {
        "id": "KoO8eIxam2tT",
        "colab_type": "text"
      },
      "cell_type": "markdown",
      "source": [
        "# Step 2 - The Grid"
      ]
    },
    {
      "metadata": {
        "id": "AEjrJ-iVDuRi",
        "colab_type": "code",
        "colab": {}
      },
      "cell_type": "code",
      "source": [
        "class Grid(object):\n",
        "\n",
        "  def __init__(self, discount=0.9, penalty_for_walls=-5):\n",
        "    self._layout = np.array([\n",
        "      [-1, -1, -1, -1, -1, -1, -1, -1, -1, -1],\n",
        "      [-1,  0,  0,  0,  0,  0, -1,  0,  0, -1],\n",
        "      [-1,  0,  0,  0, -1,  0,  0,  0, 10, -1],\n",
        "      [-1,  0,  0,  0, -1, -1,  0,  0,  0, -1],\n",
        "      [-1,  0,  0,  0, -1, -1,  0,  0,  0, -1],\n",
        "      [-1,  0,  0,  0,  0,  0,  0,  0,  0, -1],\n",
        "      [-1,  0,  0,  0,  0,  0,  0,  0,  0, -1],\n",
        "      [-1,  0,  0,  0,  0,  0,  0,  0,  0, -1],\n",
        "      [-1, -1, -1, -1, -1, -1, -1, -1, -1, -1]\n",
        "    ])\n",
        "    self._start_state = (2, 2)\n",
        "    self._goal_state = (8, 2)\n",
        "    self._state = self._start_state\n",
        "    self._number_of_states = np.prod(np.shape(self._layout))\n",
        "    self._discount = discount\n",
        "    self._penalty_for_walls = penalty_for_walls\n",
        "    self._layout_dims = self._layout.shape\n",
        "\n",
        "  @property\n",
        "  def number_of_states(self):\n",
        "      return self._number_of_states\n",
        "    \n",
        "  def plot_grid(self):\n",
        "    plt.figure(figsize=(3, 3))\n",
        "    plt.imshow(self._layout <= -1, interpolation=\"nearest\")     \n",
        "    ax = plt.gca()\n",
        "    ax.grid(0)\n",
        "    plt.xticks([])\n",
        "    plt.yticks([])\n",
        "    plt.title(\"The grid\")\n",
        "    plt.text(\n",
        "        self._start_state[0], self._start_state[1], \n",
        "        r\"$\\mathbf{S}$\", ha='center', va='center')\n",
        "    plt.text(\n",
        "        self._goal_state[0], self._goal_state[1], \n",
        "        r\"$\\mathbf{G}$\", ha='center', va='center')\n",
        "    h, w = self._layout.shape\n",
        "    for y in range(h-1):\n",
        "      plt.plot([-0.5, w-0.5], [y+0.5, y+0.5], '-k', lw=2)\n",
        "    for x in range(w-1):\n",
        "      plt.plot([x+0.5, x+0.5], [-0.5, h-0.5], '-k', lw=2)\n",
        "\n",
        "  \n",
        "  def get_obs(self):\n",
        "    y, x = self._state\n",
        "    return y*self._layout.shape[1] + x\n",
        "  \n",
        "  def int_to_state(self, int_obs):\n",
        "    x = int_obs % self._layout.shape[1]\n",
        "    y = int_obs // self._layout.shape[1]\n",
        "    return y, x\n",
        "\n",
        "  def step(self, action):\n",
        "    y, x = self._state\n",
        "\n",
        "    if action == 0:  # up\n",
        "      new_state = (y - 1, x)\n",
        "    elif action == 1:  # right\n",
        "      new_state = (y, x + 1)\n",
        "    elif action == 2:  # down\n",
        "      new_state = (y + 1, x)\n",
        "    elif action == 3:  # left\n",
        "      new_state = (y, x - 1)\n",
        "    else:\n",
        "      raise ValueError(\"Invalid action: {} is not 0, 1, 2, or 3.\".format(action))\n",
        "\n",
        "    new_y, new_x = new_state\n",
        "    if self._layout[new_y, new_x] == -1:  # wall\n",
        "      reward = self._penalty_for_walls\n",
        "      discount = self._discount\n",
        "      new_state = (y, x)\n",
        "    elif self._layout[new_y, new_x] == 0:  # empty cell\n",
        "      reward = 0.\n",
        "      discount = self._discount\n",
        "    else:  # a goal\n",
        "      reward = self._layout[new_y, new_x]\n",
        "      discount = 0.\n",
        "      new_state = self._start_state\n",
        "    \n",
        "    self._state = new_state\n",
        "    return reward, discount, self.get_obs()"
      ],
      "execution_count": 0,
      "outputs": []
    },
    {
      "metadata": {
        "id": "9GSEi_Y1Dy8q",
        "colab_type": "code",
        "colab": {}
      },
      "cell_type": "code",
      "source": [
        "class AltGrid(Grid):\n",
        "  \n",
        "    def __init__(self, discount=0.9, penalty_for_walls=-5):\n",
        "      self._layout = np.array([\n",
        "        [-1, -1, -1, -1, -1, -1, -1, -1, -1, -1],\n",
        "        [-1,  0,  0,  0,  0,  0,  0,  0,  0, -1],\n",
        "        [-1,  0,  0,  0, -1, -1,  0,  0,  0, -1],\n",
        "        [-1,  0,  0,  0, -1, -1,  0,  0,  0, -1],\n",
        "        [-1,  0,  0,  0, -1, -1,  0,  0,  0, -1],\n",
        "        [-1,  0,  0,  0,  0,  0,  0,  0,  0, -1],\n",
        "        [-1,  0,  0,  0,  0,  0,  0,  0,  0, -1],\n",
        "        [-1,  0, 10,  0,  0,  0,  0,  0,  0, -1],\n",
        "        [-1, -1, -1, -1, -1, -1, -1, -1, -1, -1]\n",
        "      ])\n",
        "      self._start_state = (2, 2)\n",
        "      self._goal_state = (2, 7)\n",
        "      self._state = self._start_state\n",
        "      self._number_of_states = np.prod(np.shape(self._layout))\n",
        "      self._discount = discount\n",
        "      self._penalty_for_walls = penalty_for_walls\n",
        "      self._layout_dims = self._layout.shape"
      ],
      "execution_count": 0,
      "outputs": []
    },
    {
      "metadata": {
        "id": "iDNmggIWD3Me",
        "colab_type": "code",
        "outputId": "d039790c-c616-49ed-e4e2-584255b9574a",
        "colab": {
          "base_uri": "https://localhost:8080/",
          "height": 377
        }
      },
      "cell_type": "code",
      "source": [
        "grid = Grid()\n",
        "alt_grid = AltGrid()\n",
        "\n",
        "grid.plot_grid()\n",
        "alt_grid.plot_grid()"
      ],
      "execution_count": 7,
      "outputs": [
        {
          "output_type": "display_data",
          "data": {
            "image/png": "[encoded data removed]",
            "text/plain": [
              "<Figure size 216x216 with 1 Axes>"
            ]
          },
          "metadata": {
            "tags": []
          }
        },
        {
          "output_type": "display_data",
          "data": {
            "image/png": "[encoded data removed]",
            "text/plain": [
              "<Figure size 216x216 with 1 Axes>"
            ]
          },
          "metadata": {
            "tags": []
          }
        }
      ]
    },
    {
      "metadata": {
        "id": "2fIrAGIBnWX4",
        "colab_type": "text"
      },
      "cell_type": "markdown",
      "source": [
        "# Step 3 - Policies"
      ]
    },
    {
      "metadata": {
        "id": "zd6DlpbSEgji",
        "colab_type": "code",
        "colab": {}
      },
      "cell_type": "code",
      "source": [
        "# uniformly random policy\n",
        "def random_policy(q):\n",
        "  return np.random.randint(4)\n",
        "\n",
        "# epilson-greedy policy\n",
        "def epsilon_greedy(q_values, epsilon=0.1):\n",
        "  if epsilon < np.random.random():\n",
        "    return np.argmax(q_values)\n",
        "  else:\n",
        "    return np.random.randint(np.array(q_values).shape[-1])"
      ],
      "execution_count": 0,
      "outputs": []
    },
    {
      "metadata": {
        "id": "UXm9ewNRndpv",
        "colab_type": "text"
      },
      "cell_type": "markdown",
      "source": [
        "# Step 4 - Helper"
      ]
    },
    {
      "metadata": {
        "id": "fESJgU7uEjao",
        "colab_type": "code",
        "colab": {}
      },
      "cell_type": "code",
      "source": [
        "map_from_action_to_subplot = lambda a: (2, 6, 8, 4)[a]\n",
        "map_from_action_to_name = lambda a: (\"up\", \"right\", \"down\", \"left\")[a]\n",
        "\n",
        "def plot_values(values, colormap='pink', vmin=-1, vmax=10):\n",
        "  plt.imshow(values, interpolation=\"nearest\", cmap=colormap, vmin=vmin, vmax=vmax)\n",
        "  plt.yticks([])\n",
        "  plt.xticks([])\n",
        "  plt.colorbar(ticks=[vmin, vmax])\n",
        "\n",
        "def plot_state_value(action_values):\n",
        "  q = action_values\n",
        "  fig = plt.figure(figsize=(4, 4))\n",
        "  vmin = np.min(action_values)\n",
        "  vmax = np.max(action_values)\n",
        "  v = 0.9 * np.max(q, axis=-1) + 0.1 * np.mean(q, axis=-1)\n",
        "  plot_values(v, colormap='summer', vmin=vmin, vmax=vmax)\n",
        "  plt.title(\"$v(s)$\")\n",
        "\n",
        "def plot_action_values(action_values):\n",
        "  q = action_values\n",
        "  fig = plt.figure(figsize=(8, 8))\n",
        "  fig.subplots_adjust(wspace=0.3, hspace=0.3)\n",
        "  vmin = np.min(action_values)\n",
        "  vmax = np.max(action_values)\n",
        "  dif = vmax - vmin\n",
        "  for a in [0, 1, 2, 3]:\n",
        "    plt.subplot(3, 3, map_from_action_to_subplot(a))\n",
        "    \n",
        "    plot_values(q[..., a], vmin=vmin - 0.05*dif, vmax=vmax + 0.05*dif)\n",
        "    action_name = map_from_action_to_name(a)\n",
        "    plt.title(r\"$q(s, \\mathrm{\" + action_name + r\"})$\")\n",
        "    \n",
        "  plt.subplot(3, 3, 5)\n",
        "  v = 0.9 * np.max(q, axis=-1) + 0.1 * np.mean(q, axis=-1)\n",
        "  plot_values(v, colormap='summer', vmin=vmin, vmax=vmax)\n",
        "  plt.title(\"$v(s)$\")\n",
        "      \n",
        "  \n",
        "def smooth(x, window=10):\n",
        "  return x[:window*(len(x)//window)].reshape(len(x)//window, window).mean(axis=1)\n",
        "  \n",
        "\n",
        "def plot_stats(stats, window=10):\n",
        "  plt.figure(figsize=(16,4))\n",
        "  plt.subplot(121)\n",
        "  xline = range(0, len(stats.episode_lengths), window)\n",
        "  plt.plot(xline, smooth(stats.episode_lengths, window=window))\n",
        "  plt.ylabel('Episode Length')\n",
        "  plt.xlabel('Episode Count')\n",
        "  plt.subplot(122)\n",
        "  plt.plot(xline, smooth(stats.episode_rewards, window=window))\n",
        "  plt.ylabel('Episode Return')\n",
        "  plt.xlabel('Episode Count')"
      ],
      "execution_count": 0,
      "outputs": []
    },
    {
      "metadata": {
        "id": "Dy7cPWorFNpU",
        "colab_type": "code",
        "colab": {}
      },
      "cell_type": "code",
      "source": [
        "def run_experiment(env, agent, number_of_steps):\n",
        "    print(number_of_steps)\n",
        "    mean_reward = 0.\n",
        "    try:\n",
        "      action = agent.initial_action()\n",
        "      \n",
        "    except AttributeError:\n",
        "      action = 0\n",
        "      \n",
        "    for i in range(number_of_steps):\n",
        "#       print('------------------------------')\n",
        "      reward, discount, next_state = env.step(action)\n",
        "#       print('rew: ', reward, ' dis: ', discount, ' next: ', next_state)\n",
        "      action = agent.step(reward, discount, next_state)\n",
        "#       print('act: ', action)\n",
        "      mean_reward += (reward - mean_reward)/(i + 1.)\n",
        "#       print('Neurew: ', mean_reward)\n",
        "#       print('------------------------------')      \n",
        "\n",
        "    return mean_reward"
      ],
      "execution_count": 0,
      "outputs": []
    },
    {
      "metadata": {
        "id": "1cXj6ltHElq0",
        "colab_type": "code",
        "colab": {}
      },
      "cell_type": "code",
      "source": [
        "def plot_policy(grid, policy):\n",
        "  action_names = [r\"$\\uparrow$\",r\"$\\rightarrow$\", r\"$\\downarrow$\", r\"$\\leftarrow$\"]\n",
        "  grid.plot_grid()\n",
        "  plt.title('Policy Visualization')\n",
        "  for i in range(9):\n",
        "    for j in range(10):\n",
        "      action_name = action_names[policy[i,j]]\n",
        "      plt.text(j, i, action_name, ha='center', va='center')\n",
        "\n",
        "def plot_greedy_policy(grid, q):\n",
        "  action_names = [r\"$\\uparrow$\",r\"$\\rightarrow$\", r\"$\\downarrow$\", r\"$\\leftarrow$\"]\n",
        "  greedy_actions = np.argmax(q, axis=2)\n",
        "  grid.plot_grid()\n",
        "  plt.title('Greedy Policy')\n",
        "  for i in range(9):\n",
        "    for j in range(10):\n",
        "      action_name = action_names[greedy_actions[i,j]]\n",
        "      plt.text(j, i, action_name, ha='center', va='center')"
      ],
      "execution_count": 0,
      "outputs": []
    },
    {
      "metadata": {
        "id": "aAA_e7eZn4Ob",
        "colab_type": "text"
      },
      "cell_type": "markdown",
      "source": [
        "# Step 5 - Agent"
      ]
    },
    {
      "metadata": {
        "id": "yph0TOukE6Xn",
        "colab_type": "code",
        "colab": {}
      },
      "cell_type": "code",
      "source": [
        "\n",
        "class PolicyEval_AGENT(object):\n",
        "\n",
        "  def __init__(\n",
        "      self, number_of_states, number_of_actions, initial_state, evaluated_policy, \n",
        "      behaviour_policy=random_policy, step_size=0.1): \n",
        "    self._q = np.zeros((number_of_states, number_of_actions))\n",
        "    self._state = initial_state\n",
        "    self._number_of_states = number_of_states\n",
        "    self._number_of_actions = number_of_actions\n",
        "    self._step_size = step_size\n",
        "    self._behaviour_policy = behaviour_policy\n",
        "    self._evaluated_policy = evaluated_policy\n",
        "    self._action = 0\n",
        "    \n",
        "  @property\n",
        "  def q_values(self):\n",
        "    return self._q\n",
        "\n",
        "  def step(self, reward, discount, next_state):\n",
        "    s = self._state\n",
        "    a = self._action\n",
        "    r = reward\n",
        "    g = discount\n",
        "    next_s = next_state\n",
        "    next_a = self._evaluated_policy(self._q[next_s])\n",
        "    \n",
        "    td_error = r + g * self._q[next_s, next_a] - self._q[s, a]\n",
        "    self._q[s, a] += self._step_size * td_error\n",
        "\n",
        "    self._state = next_state\n",
        "    self._action = self._behaviour_policy(self._q[next_state])            \n",
        "    return self._action"
      ],
      "execution_count": 0,
      "outputs": []
    },
    {
      "metadata": {
        "id": "ZdJ-siqoE8x9",
        "colab_type": "code",
        "outputId": "293b6b99-d5a2-4418-befd-57c9cdfccd09",
        "colab": {
          "base_uri": "https://localhost:8080/",
          "height": 510
        }
      },
      "cell_type": "code",
      "source": [
        "num_steps = int(1e5) \n",
        "\n",
        "# environment\n",
        "grid = AltGrid()\n",
        "\n",
        "# agent \n",
        "agent = PolicyEval_AGENT(\n",
        "    number_of_states=grid._layout.size, \n",
        "    number_of_actions=4, \n",
        "    initial_state=grid.get_obs(),\n",
        "    evaluated_policy=random_policy,\n",
        "    behaviour_policy=random_policy,\n",
        "    step_size=0.1)\n",
        "\n",
        "run_experiment(grid, agent, num_steps)\n",
        "\n",
        "q = agent.q_values.reshape(grid._layout.shape + (4,))\n",
        "\n",
        "print('AFTER {} STEPS ...'.format(num_steps))\n",
        "plot_action_values(q)"
      ],
      "execution_count": 16,
      "outputs": [
        {
          "output_type": "stream",
          "text": [
            "100000\n",
            "AFTER 100000 STEPS ...\n"
          ],
          "name": "stdout"
        },
        {
          "output_type": "display_data",
          "data": {
            "image/png": "[encoded data removed]",
            "text/plain": [
              "<Figure size 576x576 with 10 Axes>"
            ]
          },
          "metadata": {
            "tags": []
          }
        }
      ]
    },
    {
      "metadata": {
        "id": "tUka8VDoE_SC",
        "colab_type": "code",
        "outputId": "7bc5441e-95b8-478b-d3e5-c2a1e7541304",
        "colab": {
          "base_uri": "https://localhost:8080/",
          "height": 197
        }
      },
      "cell_type": "code",
      "source": [
        "pi = np.zeros(grid._layout_dims, dtype=np.int32)\n",
        "for i in range(grid._layout_dims[0]):\n",
        "  for j in range(grid._layout_dims[1]):\n",
        "    pi[i, j] = epsilon_greedy(q[i, j], epsilon=0.)\n",
        "    \n",
        "plot_policy(grid, pi)"
      ],
      "execution_count": 14,
      "outputs": [
        {
          "output_type": "display_data",
          "data": {
            "image/png": "[encoded data removed]",
            "text/plain": [
              "<Figure size 216x216 with 1 Axes>"
            ]
          },
          "metadata": {
            "tags": []
          }
        }
      ]
    },
    {
      "metadata": {
        "id": "t5RVYIdZGLo8",
        "colab_type": "code",
        "outputId": "9a1f7373-17cc-4056-ff44-2182ce21e668",
        "colab": {
          "base_uri": "https://localhost:8080/",
          "height": 197
        }
      },
      "cell_type": "code",
      "source": [
        "plot_greedy_policy(grid, q)"
      ],
      "execution_count": 15,
      "outputs": [
        {
          "output_type": "display_data",
          "data": {
            "image/png": "[encoded data removed]",
            "text/plain": [
              "<Figure size 216x216 with 1 Axes>"
            ]
          },
          "metadata": {
            "tags": []
          }
        }
      ]
    }
  ]
}