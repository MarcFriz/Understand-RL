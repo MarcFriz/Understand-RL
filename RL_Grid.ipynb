{
  "nbformat": 4,
  "nbformat_minor": 0,
  "metadata": {
    "colab": {
      "name": "RL-Grid.ipynb",
      "version": "0.3.2",
      "provenance": [],
      "toc_visible": true,
      "include_colab_link": true
    },
    "kernelspec": {
      "name": "python3",
      "display_name": "Python 3"
    }
  },
  "cells": [
    {
      "cell_type": "markdown",
      "metadata": {
        "id": "view-in-github",
        "colab_type": "text"
      },
      "source": [
        "<a href=\"https://colab.research.google.com/github/MarcFriz/Understand-RL/blob/master/RL_Grid.ipynb\" target=\"_parent\"><img src=\"https://colab.research.google.com/assets/colab-badge.svg\" alt=\"Open In Colab\"/></a>"
      ]
    },
    {
      "metadata": {
        "id": "RIp6C9zKl4Lm",
        "colab_type": "text"
      },
      "cell_type": "markdown",
      "source": [
        "# Understand reinforcement learning\n",
        "\n",
        "Try out a simple reinforcement learning Algorithm "
      ]
    },
    {
      "metadata": {
        "id": "cvgaQ98nDP96",
        "colab_type": "code",
        "outputId": "be8131da-c58b-4ce3-ccbd-7c36f7fb9897",
        "colab": {
          "base_uri": "https://localhost:8080/",
          "height": 34
        }
      },
      "cell_type": "code",
      "source": [
        "!pip install numpy"
      ],
      "execution_count": 225,
      "outputs": [
        {
          "output_type": "stream",
          "text": [
            "Requirement already satisfied: numpy in /usr/local/lib/python3.6/dist-packages (1.14.6)\n"
          ],
          "name": "stdout"
        }
      ]
    },
    {
      "metadata": {
        "id": "hY0ZxqT8EBvR",
        "colab_type": "code",
        "colab": {}
      },
      "cell_type": "code",
      "source": [
        "# !pip list"
      ],
      "execution_count": 0,
      "outputs": []
    },
    {
      "metadata": {
        "id": "UYF15I7Fmvg2",
        "colab_type": "text"
      },
      "cell_type": "markdown",
      "source": [
        "#  Step 1 - Setup"
      ]
    },
    {
      "metadata": {
        "id": "pFm91tT3DVsI",
        "colab_type": "code",
        "colab": {}
      },
      "cell_type": "code",
      "source": [
        "import matplotlib.pyplot as plt\n",
        "import numpy as np\n",
        "from collections import namedtuple\n",
        "import itertools\n",
        "import tensorflow as tf\n",
        "\n",
        "\n",
        "np.set_printoptions(precision=3, suppress=1)\n",
        "plt.style.use('seaborn-notebook')\n",
        "plt.style.use('seaborn-whitegrid')\n",
        "\n",
        "tf.logging.set_verbosity(tf.logging.ERROR)"
      ],
      "execution_count": 0,
      "outputs": []
    },
    {
      "metadata": {
        "id": "KoO8eIxam2tT",
        "colab_type": "text"
      },
      "cell_type": "markdown",
      "source": [
        "# Step 2 - The Grid"
      ]
    },
    {
      "metadata": {
        "id": "AEjrJ-iVDuRi",
        "colab_type": "code",
        "colab": {}
      },
      "cell_type": "code",
      "source": [
        "class Grid(object):\n",
        "\n",
        "  def __init__(self, discount=0.9, penalty_for_walls=-5):\n",
        "    self._layout = np.array([\n",
        "      [-1, -1, -1, -1, -1, -1, -1, -1, -1, -1],\n",
        "      [-1,  0,  0,  0,  0,  0, -1,  0,  0, -1],\n",
        "      [-1,  0,  0,  0, -1,  0,  0,  0, 10, -1],\n",
        "      [-1,  0,  0,  0, -1, -1,  0,  0,  0, -1],\n",
        "      [-1,  0,  0,  0, -1, -1,  0,  0,  0, -1],\n",
        "      [-1,  0,  0,  0,  0,  0,  0,  0,  0, -1],\n",
        "      [-1,  0,  0,  0,  0,  0,  0,  0,  0, -1],\n",
        "      [-1,  0,  0,  0,  0,  0,  0,  0,  0, -1],\n",
        "      [-1, -1, -1, -1, -1, -1, -1, -1, -1, -1]\n",
        "    ])\n",
        "    self._start_state = (2, 2)\n",
        "    self._goal_state = (8, 2)\n",
        "    self._state = self._start_state\n",
        "    self._number_of_states = np.prod(np.shape(self._layout))\n",
        "    self._discount = discount\n",
        "    self._penalty_for_walls = penalty_for_walls\n",
        "    self._layout_dims = self._layout.shape\n",
        "\n",
        "  @property\n",
        "  def number_of_states(self):\n",
        "      return self._number_of_states\n",
        "    \n",
        "  def plot_grid(self):\n",
        "    plt.figure(figsize=(3, 3))\n",
        "    plt.imshow(self._layout <= -1, interpolation=\"nearest\")     \n",
        "    ax = plt.gca()\n",
        "    ax.grid(0)\n",
        "    plt.xticks([])\n",
        "    plt.yticks([])\n",
        "    plt.title(\"The grid\")\n",
        "    plt.text(\n",
        "        self._start_state[0], self._start_state[1], \n",
        "        r\"$\\mathbf{S}$\", ha='center', va='center')\n",
        "    plt.text(\n",
        "        self._goal_state[0], self._goal_state[1], \n",
        "        r\"$\\mathbf{G}$\", ha='center', va='center')\n",
        "    h, w = self._layout.shape\n",
        "    for y in range(h-1):\n",
        "      plt.plot([-0.5, w-0.5], [y+0.5, y+0.5], '-k', lw=2)\n",
        "    for x in range(w-1):\n",
        "      plt.plot([x+0.5, x+0.5], [-0.5, h-0.5], '-k', lw=2)\n",
        "\n",
        "  \n",
        "  def get_obs(self):\n",
        "    y, x = self._state\n",
        "    return y*self._layout.shape[1] + x\n",
        "  \n",
        "  def int_to_state(self, int_obs):\n",
        "    x = int_obs % self._layout.shape[1]\n",
        "    y = int_obs // self._layout.shape[1]\n",
        "    return y, x\n",
        "\n",
        "  def step(self, action):\n",
        "    y, x = self._state\n",
        "\n",
        "    if action == 0:  # up\n",
        "      new_state = (y - 1, x)\n",
        "    elif action == 1:  # right\n",
        "      new_state = (y, x + 1)\n",
        "    elif action == 2:  # down\n",
        "      new_state = (y + 1, x)\n",
        "    elif action == 3:  # left\n",
        "      new_state = (y, x - 1)\n",
        "    else:\n",
        "      raise ValueError(\"Invalid action: {} is not 0, 1, 2, or 3.\".format(action))\n",
        "\n",
        "    new_y, new_x = new_state\n",
        "    if self._layout[new_y, new_x] == -1:  # wall\n",
        "      reward = self._penalty_for_walls\n",
        "      discount = self._discount\n",
        "      new_state = (y, x)\n",
        "    elif self._layout[new_y, new_x] == 0:  # empty cell\n",
        "      reward = 0.\n",
        "      discount = self._discount\n",
        "    else:  # a goal\n",
        "      reward = self._layout[new_y, new_x]\n",
        "      discount = 0.\n",
        "      new_state = self._start_state\n",
        "    \n",
        "    self._state = new_state\n",
        "    return reward, discount, self.get_obs()"
      ],
      "execution_count": 0,
      "outputs": []
    },
    {
      "metadata": {
        "id": "9GSEi_Y1Dy8q",
        "colab_type": "code",
        "colab": {}
      },
      "cell_type": "code",
      "source": [
        "class AltGrid(Grid):\n",
        "  \n",
        "    def __init__(self, discount=0.9, penalty_for_walls=-5):\n",
        "      self._layout = np.array([\n",
        "        [-1, -1, -1, -1, -1, -1, -1, -1, -1, -1],\n",
        "        [-1,  0,  0,  0,  0,  0,  0,  0,  0, -1],\n",
        "        [-1,  0,  0,  0, -1, -1,  0,  0,  0, -1],\n",
        "        [-1,  0,  0,  0, -1, -1,  0,  0,  0, -1],\n",
        "        [-1,  0,  0,  0, -1, -1,  0,  0,  0, -1],\n",
        "        [-1,  0,  0,  0,  0,  0,  0,  0,  0, -1],\n",
        "        [-1,  0,  0,  0,  0,  0,  0,  0,  0, -1],\n",
        "        [-1,  0, 10,  0,  0,  0,  0,  0,  0, -1],\n",
        "        [-1, -1, -1, -1, -1, -1, -1, -1, -1, -1]\n",
        "      ])\n",
        "      self._start_state = (2, 2)\n",
        "      self._goal_state = (2, 7)\n",
        "      self._state = self._start_state\n",
        "      self._number_of_states = np.prod(np.shape(self._layout))\n",
        "      self._discount = discount\n",
        "      self._penalty_for_walls = penalty_for_walls\n",
        "      self._layout_dims = self._layout.shape"
      ],
      "execution_count": 0,
      "outputs": []
    },
    {
      "metadata": {
        "id": "iDNmggIWD3Me",
        "colab_type": "code",
        "outputId": "6b1ddda3-3faa-4bc2-82e1-f52c176ef107",
        "colab": {
          "base_uri": "https://localhost:8080/",
          "height": 377
        }
      },
      "cell_type": "code",
      "source": [
        "grid = Grid()\n",
        "alt_grid = AltGrid()\n",
        "\n",
        "grid.plot_grid()\n",
        "alt_grid.plot_grid()"
      ],
      "execution_count": 230,
      "outputs": [
        {
          "output_type": "display_data",
          "data": {
            "image/png": "[encoded data removed]",
            "text/plain": [
              "<Figure size 216x216 with 1 Axes>"
            ]
          },
          "metadata": {
            "tags": []
          }
        },
        {
          "output_type": "display_data",
          "data": {
            "image/png": "[encoded data removed]",
            "text/plain": [
              "<Figure size 216x216 with 1 Axes>"
            ]
          },
          "metadata": {
            "tags": []
          }
        }
      ]
    },
    {
      "metadata": {
        "id": "2fIrAGIBnWX4",
        "colab_type": "text"
      },
      "cell_type": "markdown",
      "source": [
        "# Step 3 - Policies"
      ]
    },
    {
      "metadata": {
        "id": "zd6DlpbSEgji",
        "colab_type": "code",
        "colab": {}
      },
      "cell_type": "code",
      "source": [
        "# uniformly random policy\n",
        "def random_policy(q):\n",
        "  return np.random.randint(4)\n",
        "\n",
        "# epilson-greedy policy\n",
        "def epsilon_greedy(q_values, epsilon=0.1):\n",
        "  if epsilon < np.random.random():\n",
        "    return np.argmax(q_values)\n",
        "  else:\n",
        "    return np.random.randint(np.array(q_values).shape[-1])"
      ],
      "execution_count": 0,
      "outputs": []
    },
    {
      "metadata": {
        "id": "UXm9ewNRndpv",
        "colab_type": "text"
      },
      "cell_type": "markdown",
      "source": [
        "# Step 4 - Helper"
      ]
    },
    {
      "metadata": {
        "id": "fESJgU7uEjao",
        "colab_type": "code",
        "colab": {}
      },
      "cell_type": "code",
      "source": [
        "map_from_action_to_subplot = lambda a: (2, 6, 8, 4)[a]\n",
        "map_from_action_to_name = lambda a: (\"up\", \"right\", \"down\", \"left\")[a]\n",
        "\n",
        "def plot_values(values, colormap='pink', vmin=-1, vmax=10):\n",
        "  plt.imshow(values, interpolation=\"nearest\", cmap=colormap, vmin=vmin, vmax=vmax)\n",
        "  plt.yticks([])\n",
        "  plt.xticks([])\n",
        "  plt.colorbar(ticks=[vmin, vmax])\n",
        "\n",
        "def plot_state_value(action_values):\n",
        "  q = action_values\n",
        "  fig = plt.figure(figsize=(4, 4))\n",
        "  vmin = np.min(action_values)\n",
        "  vmax = np.max(action_values)\n",
        "  v = 0.9 * np.max(q, axis=-1) + 0.1 * np.mean(q, axis=-1)\n",
        "  plot_values(v, colormap='summer', vmin=vmin, vmax=vmax)\n",
        "  plt.title(\"$v(s)$\")\n",
        "\n",
        "def plot_action_values(action_values):\n",
        "  q = action_values\n",
        "  fig = plt.figure(figsize=(8, 8))\n",
        "  fig.subplots_adjust(wspace=0.3, hspace=0.3)\n",
        "  vmin = np.min(action_values)\n",
        "  vmax = np.max(action_values)\n",
        "  dif = vmax - vmin\n",
        "  for a in [0, 1, 2, 3]:\n",
        "    plt.subplot(3, 3, map_from_action_to_subplot(a))\n",
        "    \n",
        "    plot_values(q[..., a], vmin=vmin - 0.05*dif, vmax=vmax + 0.05*dif)\n",
        "    action_name = map_from_action_to_name(a)\n",
        "    plt.title(r\"$q(s, \\mathrm{\" + action_name + r\"})$\")\n",
        "    \n",
        "  plt.subplot(3, 3, 5)\n",
        "  v = 0.9 * np.max(q, axis=-1) + 0.1 * np.mean(q, axis=-1)\n",
        "  plot_values(v, colormap='summer', vmin=vmin, vmax=vmax)\n",
        "  plt.title(\"$v(s)$\")\n",
        "      \n",
        "  \n",
        "def smooth(x, window=10):\n",
        "  return x[:window*(len(x)//window)].reshape(len(x)//window, window).mean(axis=1)\n",
        "  \n",
        "\n",
        "def plot_stats(stats, window=10):\n",
        "  plt.figure(figsize=(16,4))\n",
        "  plt.subplot(121)\n",
        "  xline = range(0, len(stats.episode_lengths), window)\n",
        "  plt.plot(xline, smooth(stats.episode_lengths, window=window))\n",
        "  plt.ylabel('Episode Length')\n",
        "  plt.xlabel('Episode Count')\n",
        "  plt.subplot(122)\n",
        "  plt.plot(xline, smooth(stats.episode_rewards, window=window))\n",
        "  plt.ylabel('Episode Return')\n",
        "  plt.xlabel('Episode Count')"
      ],
      "execution_count": 0,
      "outputs": []
    },
    {
      "metadata": {
        "id": "Dy7cPWorFNpU",
        "colab_type": "code",
        "colab": {}
      },
      "cell_type": "code",
      "source": [
        "def run_experiment(env, agent, number_of_steps):\n",
        "    print(number_of_steps)\n",
        "    mean_reward = 0.\n",
        "    try:\n",
        "      action = agent.initial_action()\n",
        "      \n",
        "    except AttributeError:\n",
        "      action = 0\n",
        "      \n",
        "    for i in range(number_of_steps):\n",
        "#       print('------------------------------')\n",
        "#       print('action: ', action)            \n",
        "      \n",
        "      reward, discount, next_state = env.step(action)\n",
        "      action = agent.step(reward, discount, next_state)\n",
        "      mean_reward += (reward - mean_reward)/(i + 1.)\n",
        "     \n",
        "#       print('rew: ', reward, ' dis: ', discount, ' next: ', next_state) \n",
        "#       print('neuAct: ', action)      \n",
        "#       print('Neurew: ', mean_reward)\n",
        "#       print('Q: ', agent._q)\n",
        "#       print('------------------------------')      \n",
        "\n",
        "    return mean_reward"
      ],
      "execution_count": 0,
      "outputs": []
    },
    {
      "metadata": {
        "id": "1cXj6ltHElq0",
        "colab_type": "code",
        "colab": {}
      },
      "cell_type": "code",
      "source": [
        "def plot_policy(grid, policy):\n",
        "  action_names = [r\"$\\uparrow$\",r\"$\\rightarrow$\", r\"$\\downarrow$\", r\"$\\leftarrow$\"]\n",
        "  grid.plot_grid()\n",
        "  plt.title('Policy Visualization')\n",
        "  for i in range(9):\n",
        "    for j in range(10):\n",
        "      action_name = action_names[policy[i,j]]\n",
        "      plt.text(j, i, action_name, ha='center', va='center')\n",
        "\n",
        "def plot_greedy_policy(grid, q):\n",
        "  action_names = [r\"$\\uparrow$\",r\"$\\rightarrow$\", r\"$\\downarrow$\", r\"$\\leftarrow$\"]\n",
        "  greedy_actions = np.argmax(q, axis=2)\n",
        "  grid.plot_grid()\n",
        "  plt.title('Greedy Policy')\n",
        "  for i in range(9):\n",
        "    for j in range(10):\n",
        "      action_name = action_names[greedy_actions[i,j]]\n",
        "      plt.text(j, i, action_name, ha='center', va='center')"
      ],
      "execution_count": 0,
      "outputs": []
    },
    {
      "metadata": {
        "id": "aAA_e7eZn4Ob",
        "colab_type": "text"
      },
      "cell_type": "markdown",
      "source": [
        "# Step 5 - Agent"
      ]
    },
    {
      "metadata": {
        "id": "yph0TOukE6Xn",
        "colab_type": "code",
        "colab": {}
      },
      "cell_type": "code",
      "source": [
        "\n",
        "class PolicyEval_AGENT(object):\n",
        "\n",
        "  def __init__(\n",
        "      self, number_of_states, number_of_actions, initial_state, evaluated_policy, \n",
        "      behaviour_policy=random_policy, step_size=0.1): \n",
        "    self._q = np.zeros((number_of_states, number_of_actions))\n",
        "    self._state = initial_state\n",
        "    self._number_of_states = number_of_states\n",
        "    self._number_of_actions = number_of_actions\n",
        "    self._step_size = step_size\n",
        "    self._behaviour_policy = behaviour_policy\n",
        "    self._evaluated_policy = evaluated_policy\n",
        "    self._action = 0\n",
        "    \n",
        "  @property\n",
        "  def q_values(self):\n",
        "    return self._q\n",
        "\n",
        "  def step(self, reward, discount, next_state):\n",
        "    s = self._state\n",
        "    a = self._action\n",
        "    r = reward\n",
        "    g = discount\n",
        "    next_s = next_state\n",
        "    next_a = self._evaluated_policy(self._q[next_s])\n",
        "    \n",
        "    td_error = r + g * self._q[next_s, next_a] - self._q[s, a]\n",
        "    self._q[s, a] += self._step_size * td_error\n",
        "\n",
        "    self._state = next_state\n",
        "    self._action = self._behaviour_policy(self._q[next_state])            \n",
        "    return self._action"
      ],
      "execution_count": 0,
      "outputs": []
    },
    {
      "metadata": {
        "id": "BkW6clnsCZO2",
        "colab_type": "code",
        "colab": {}
      },
      "cell_type": "code",
      "source": [
        "class QLearning_AGENT(object):\n",
        "\n",
        "  def __init__(\n",
        "      self, number_of_states, number_of_actions, initial_state,\n",
        "      behaviour_policy, step_size=0.1): \n",
        "    self._q = np.zeros((number_of_states, number_of_actions))\n",
        "    self._state = initial_state\n",
        "    self._number_of_states = number_of_states\n",
        "    self._number_of_actions = number_of_actions\n",
        "    self._step_size = step_size\n",
        "    self._behaviour_policy = behaviour_policy\n",
        "    self._action = 0\n",
        "    \n",
        "  @property\n",
        "  def q_values(self):\n",
        "    return self._q\n",
        "\n",
        "  def step(self, reward, discount, next_state):\n",
        "    s = self._state\n",
        "    a = self._action\n",
        "    r = reward\n",
        "    g = discount\n",
        "    next_s = next_state\n",
        "    next_a = self._behaviour_policy(self._q[next_s])\n",
        "    \n",
        "    # Online Q-value update\n",
        "    td_error = r + g * np.max(self._q[next_s]) - self._q[s, a]\n",
        "    self._q[s, a] += self._step_size * td_error\n",
        "\n",
        "    # Act\n",
        "    self._state = next_state\n",
        "    self._action = self._behaviour_policy(self._q[next_state])\n",
        "    return self._action"
      ],
      "execution_count": 0,
      "outputs": []
    },
    {
      "metadata": {
        "id": "fPn5jwzyCicN",
        "colab_type": "text"
      },
      "cell_type": "markdown",
      "source": [
        "# Step 6 - Run"
      ]
    },
    {
      "metadata": {
        "id": "B-axUeE4CmGM",
        "colab_type": "text"
      },
      "cell_type": "markdown",
      "source": [
        "## Run Random Policy"
      ]
    },
    {
      "metadata": {
        "id": "ZdJ-siqoE8x9",
        "colab_type": "code",
        "outputId": "2fa288d6-529c-4a0f-92a6-847938d4bdee",
        "colab": {
          "base_uri": "https://localhost:8080/",
          "height": 510
        }
      },
      "cell_type": "code",
      "source": [
        "num_steps = int(1e5) \n",
        "# num_steps = int(20) \n",
        "\n",
        "# environment\n",
        "grid = AltGrid()\n",
        "\n",
        "# agent \n",
        "agent = PolicyEval_AGENT(\n",
        "    number_of_states=grid._layout.size, \n",
        "    number_of_actions=4, \n",
        "    initial_state=grid.get_obs(),\n",
        "#     evaluated_policy=random_policy,\n",
        "#     behaviour_policy=random_policy,\n",
        "    evaluated_policy=epsilon_greedy,\n",
        "    behaviour_policy=epsilon_greedy,\n",
        "    step_size=0.1)\n",
        "\n",
        "run_experiment(grid, agent, num_steps)\n",
        "\n",
        "q = agent.q_values.reshape(grid._layout.shape + (4,))\n",
        "\n",
        "print('AFTER {} STEPS ...'.format(num_steps))\n",
        "plot_action_values(q)"
      ],
      "execution_count": 237,
      "outputs": [
        {
          "output_type": "stream",
          "text": [
            "100000\n",
            "AFTER 100000 STEPS ...\n"
          ],
          "name": "stdout"
        },
        {
          "output_type": "display_data",
          "data": {
            "image/png": "[encoded data removed]",
            "text/plain": [
              "<Figure size 576x576 with 10 Axes>"
            ]
          },
          "metadata": {
            "tags": []
          }
        }
      ]
    },
    {
      "metadata": {
        "id": "tUka8VDoE_SC",
        "colab_type": "code",
        "outputId": "9fc0dd4c-18e6-4945-f477-6325e050fb3b",
        "colab": {
          "base_uri": "https://localhost:8080/",
          "height": 197
        }
      },
      "cell_type": "code",
      "source": [
        "pi = np.zeros(grid._layout_dims, dtype=np.int32)\n",
        "for i in range(grid._layout_dims[0]):\n",
        "  for j in range(grid._layout_dims[1]):\n",
        "    pi[i, j] = epsilon_greedy(q[i, j], epsilon=0.)\n",
        "    \n",
        "plot_policy(grid, pi)"
      ],
      "execution_count": 238,
      "outputs": [
        {
          "output_type": "display_data",
          "data": {
            "image/png": "[encoded data removed]",
            "text/plain": [
              "<Figure size 216x216 with 1 Axes>"
            ]
          },
          "metadata": {
            "tags": []
          }
        }
      ]
    },
    {
      "metadata": {
        "id": "t5RVYIdZGLo8",
        "colab_type": "code",
        "outputId": "018b4627-12aa-4c6e-c231-fa195ced78e5",
        "colab": {
          "base_uri": "https://localhost:8080/",
          "height": 197
        }
      },
      "cell_type": "code",
      "source": [
        "plot_greedy_policy(grid, q)"
      ],
      "execution_count": 239,
      "outputs": [
        {
          "output_type": "display_data",
          "data": {
            "image/png": "[encoded data removed]",
            "text/plain": [
              "<Figure size 216x216 with 1 Axes>"
            ]
          },
          "metadata": {
            "tags": []
          }
        }
      ]
    },
    {
      "metadata": {
        "id": "yq3AgxreCsPf",
        "colab_type": "text"
      },
      "cell_type": "markdown",
      "source": [
        "## Run QLearner"
      ]
    },
    {
      "metadata": {
        "id": "x6pPFodpCu6N",
        "colab_type": "code",
        "colab": {}
      },
      "cell_type": "code",
      "source": [
        "grid = Grid(discount=0.9, penalty_for_walls=-1.)"
      ],
      "execution_count": 0,
      "outputs": []
    },
    {
      "metadata": {
        "id": "LS1ITjl9CxRz",
        "colab_type": "code",
        "colab": {
          "base_uri": "https://localhost:8080/",
          "height": 690
        },
        "outputId": "3c221ad9-3c9e-4ec7-8919-0798b2e76f6a"
      },
      "cell_type": "code",
      "source": [
        "epsilon = 1.0 \n",
        "num_steps = int(1e5) \n",
        "\n",
        "# behavior policy\n",
        "behavior_policy = lambda qval: epsilon_greedy(qval, epsilon=epsilon)\n",
        "\n",
        "# agent\n",
        "agent = QLearning_AGENT(\n",
        "    number_of_states=grid._layout.size, \n",
        "    number_of_actions=4, \n",
        "    initial_state=grid.get_obs(),\n",
        "    behaviour_policy=behavior_policy,\n",
        "    step_size=0.1)\n",
        "\n",
        "run_experiment(grid, agent, num_steps)\n",
        "q = agent.q_values.reshape(grid._layout.shape + (4,))\n",
        "\n",
        "print('AFTER {} STEPS ...'.format(num_steps))\n",
        "plot_action_values(q)\n",
        "\n",
        "plot_greedy_policy(grid, q)"
      ],
      "execution_count": 241,
      "outputs": [
        {
          "output_type": "stream",
          "text": [
            "100000\n",
            "AFTER 100000 STEPS ...\n"
          ],
          "name": "stdout"
        },
        {
          "output_type": "display_data",
          "data": {
            "image/png": "[encoded data removed]",
            "text/plain": [
              "<Figure size 576x576 with 10 Axes>"
            ]
          },
          "metadata": {
            "tags": []
          }
        },
        {
          "output_type": "display_data",
          "data": {
            "image/png": "[encoded data removed]",
            "text/plain": [
              "<Figure size 216x216 with 1 Axes>"
            ]
          },
          "metadata": {
            "tags": []
          }
        }
      ]
    },
    {
      "metadata": {
        "id": "A1TllzvnEniB",
        "colab_type": "text"
      },
      "cell_type": "markdown",
      "source": [
        "# Step 7 - Own Policy "
      ]
    },
    {
      "metadata": {
        "id": "rgDe-xclFBCA",
        "colab_type": "code",
        "colab": {}
      },
      "cell_type": "code",
      "source": [
        "!pip install -q dm-sonnet"
      ],
      "execution_count": 0,
      "outputs": []
    },
    {
      "metadata": {
        "id": "nr81B7J0FDqj",
        "colab_type": "code",
        "colab": {}
      },
      "cell_type": "code",
      "source": [
        "import sonnet as snt"
      ],
      "execution_count": 0,
      "outputs": []
    },
    {
      "metadata": {
        "id": "26vBdUWkE23N",
        "colab_type": "text"
      },
      "cell_type": "markdown",
      "source": [
        "## (Vanilla) Policy"
      ]
    },
    {
      "metadata": {
        "id": "W5AuGcTgFICh",
        "colab_type": "code",
        "colab": {}
      },
      "cell_type": "code",
      "source": [
        "Logging_EpStats = namedtuple(\"Logging_EpStats\", \n",
        "                             [\"episode_lengths\", \"episode_rewards\"])    \n",
        "Transition = namedtuple(\"Transition\", [\"state\", \"action\", \"reward\", \"next_state\", \"discount\"])"
      ],
      "execution_count": 0,
      "outputs": []
    },
    {
      "metadata": {
        "id": "kv7hpuGRFPZA",
        "colab_type": "code",
        "colab": {}
      },
      "cell_type": "code",
      "source": [
        "class PolicyApproximator():\n",
        "    \"\"\"\n",
        "    Policy Function approximator. \n",
        "    \"\"\"\n",
        "    \n",
        "    def __init__(self, num_actions=4, learning_rate=0.01, scope=\"policy_approximation\"):\n",
        "        with tf.variable_scope(scope):\n",
        "            self.state = tf.placeholder(tf.int32, [], \"state\")\n",
        "            \n",
        "            state_one_hot = tf.one_hot(self.state, int(grid._layout.size))\n",
        "            \n",
        "            self.action = tf.placeholder(dtype=tf.int32, name=\"action\")\n",
        "            \n",
        "            self.return_s = tf.placeholder(dtype=tf.float32, name=\"return\")\n",
        "            \n",
        "            nn_transform = snt.Linear(num_actions,\n",
        "                          initializers={'w': tf.zeros_initializer,\n",
        "                                        'b': tf.zeros_initializer})\n",
        "            self.output_layer = nn_transform(tf.expand_dims(state_one_hot, 0))\n",
        "\n",
        "            self.action_probs = tf.squeeze(tf.nn.softmax(self.output_layer))\n",
        "            self.selected_action_prob = self.action_probs[self.action]#tf.gather(self.action_probs, self.action)\n",
        "\n",
        "            self.loss = -tf.log(self.selected_action_prob) * self.return_s\n",
        "\n",
        "            self.optimizer = tf.train.AdamOptimizer(learning_rate=learning_rate)\n",
        "            \n",
        "            self.train_op = self.optimizer.minimize(\n",
        "                self.loss, global_step=tf.contrib.framework.get_global_step())\n",
        "    \n",
        "    def predict(self, state, sess=None):\n",
        "      sess = sess or tf.get_default_session()\n",
        "      pi_a_s = sess.run(self.action_probs, { self.state: state })\n",
        "      return pi_a_s\n",
        "\n",
        "    def update(self, state, return_s, action, sess=None):\n",
        "      sess = sess or tf.get_default_session()\n",
        "      feed_dict = { self.state: state, self.return_s: return_s, self.action: action  }\n",
        "      _, loss = sess.run([self.train_op, self.loss], feed_dict)\n",
        "      return loss"
      ],
      "execution_count": 0,
      "outputs": []
    },
    {
      "metadata": {
        "id": "M2LrG4ghFzc9",
        "colab_type": "code",
        "colab": {}
      },
      "cell_type": "code",
      "source": [
        "class REINFORCE_AGENT(object):\n",
        "  \n",
        "  def __init__(\n",
        "      self, number_of_states, number_of_actions, initial_state, \n",
        "      policy_learning_rate=0.01, const_discount=1.0):\n",
        "    \n",
        "    self._policy_approximator = PolicyApproximator(num_actions=number_of_actions,\n",
        "                                                   learning_rate=policy_learning_rate)\n",
        "    self._constant_discount = const_discount \n",
        "    \n",
        "    self._state = initial_state\n",
        "    self._action = 0\n",
        "    \n",
        "  def step(self, state):\n",
        "    action_probs = self._policy_approximator.predict(state)\n",
        "    \n",
        "    action = np.random.choice(np.arange(len(action_probs)), p=action_probs)\n",
        "    \n",
        "    self._action = action\n",
        "    self._state = state\n",
        "    return self._action\n",
        "    \n",
        "  def update(self, episode):\n",
        "    for t, transition in enumerate(episode):\n",
        "\n",
        "      discounted_return = sum(self._constant_discount**i * t.reward for i, t in enumerate(episode[t:]))\n",
        "      \n",
        "      self._policy_approximator.update(transition.state, discounted_return, transition.action)"
      ],
      "execution_count": 0,
      "outputs": []
    },
    {
      "metadata": {
        "id": "E66ywQTRF4-o",
        "colab_type": "code",
        "colab": {}
      },
      "cell_type": "code",
      "source": [
        "def run_reinforce(env, agent, num_episodes, \n",
        "                  MAXSTEPS_PER_EPISODE=100, \n",
        "                  REPORT_EVERY_N_STEPS=20):\n",
        "    # Booking\n",
        "    stats = Logging_EpStats(\n",
        "        episode_lengths=np.zeros(num_episodes),\n",
        "        episode_rewards=np.zeros(num_episodes))    \n",
        "    \n",
        "    for i_episode in range(num_episodes):\n",
        "      \n",
        "        action = 0#agent.initial_action()\n",
        "        reward, discount, next_state = env.step(action)\n",
        "        \n",
        "        episode = []\n",
        "        act_small = []\n",
        "        \n",
        "        state = next_state\n",
        "        for t in range(MAXSTEPS_PER_EPISODE): \n",
        "            \n",
        "            action = agent.step(state)\n",
        "            reward, discount, next_state = env.step(action)\n",
        "            \n",
        "            episode.append(Transition(\n",
        "              state=state, action=action, reward=reward, next_state=next_state, discount=discount))\n",
        "            \n",
        "            stats.episode_rewards[i_episode] += reward\n",
        "            stats.episode_lengths[i_episode] = t\n",
        "            \n",
        "            # (Live) reporting\n",
        "            if ((discount == 0) | (t==MAXSTEPS_PER_EPISODE-1)) & (i_episode%REPORT_EVERY_N_STEPS==0):\n",
        "                print(\"Episode {}/{}: Length {} ({})\".format(\n",
        "                i_episode + 1, num_episodes, t, stats.episode_rewards[i_episode - 1]))\n",
        "\n",
        "            if discount == 0:         \n",
        "                break\n",
        "                \n",
        "            state = next_state\n",
        "    \n",
        "        agent.update(episode)\n",
        "         \n",
        "    return stats, episode"
      ],
      "execution_count": 0,
      "outputs": []
    },
    {
      "metadata": {
        "id": "43ioKRv0FfxP",
        "colab_type": "text"
      },
      "cell_type": "markdown",
      "source": [
        "## Run"
      ]
    },
    {
      "metadata": {
        "id": "UPIiSipSFi-1",
        "colab_type": "code",
        "colab": {}
      },
      "cell_type": "code",
      "source": [
        "grid = Grid(discount=1.0)"
      ],
      "execution_count": 0,
      "outputs": []
    },
    {
      "metadata": {
        "id": "xacsgtVrFqhb",
        "colab_type": "code",
        "colab": {}
      },
      "cell_type": "code",
      "source": [
        "tf.reset_default_graph()\n",
        "\n",
        "global_step = tf.Variable(0, name=\"global_step\", trainable=False)\n",
        "\n",
        "agent = REINFORCE_AGENT(number_of_states=grid._layout.size,\n",
        "                        number_of_actions=4, \n",
        "                        initial_state=grid.get_obs(), \n",
        "                        policy_learning_rate=0.01, \n",
        "                        const_discount=1.0)\n",
        "\n",
        "with tf.Session() as sess:\n",
        "    sess.run(tf.initialize_all_variables())\n",
        "    stats = run_reinforce(grid, agent, 500)"
      ],
      "execution_count": 0,
      "outputs": []
    },
    {
      "metadata": {
        "id": "dv9RorRWI_cq",
        "colab_type": "code",
        "colab": {
          "base_uri": "https://localhost:8080/",
          "height": 454
        },
        "outputId": "11500fb3-0808-4f31-afc0-450891e7d4f3"
      },
      "cell_type": "code",
      "source": [
        "tf.reset_default_graph()\n",
        "\n",
        "global_step = tf.Variable(0, name=\"global_step\", trainable=False)\n",
        "\n",
        "agent = REINFORCE_AGENT(number_of_states=grid._layout.size,\n",
        "                        number_of_actions=4, \n",
        "                        initial_state=grid.get_obs(), \n",
        "                        policy_learning_rate=0.01, \n",
        "                        const_discount=1.0)\n",
        "\n",
        "with tf.Session() as sess:\n",
        "    sess.run(tf.initialize_all_variables())\n",
        "    stats, actions = run_reinforce(grid, agent, 500)\n",
        "    \n",
        "    predict, predict_actions = run_reinforce(grid, agent, 1)    "
      ],
      "execution_count": 270,
      "outputs": [
        {
          "output_type": "stream",
          "text": [
            "Episode 1/500: Length 74 (0.0)\n",
            "Episode 21/500: Length 40 (-120.0)\n",
            "Episode 41/500: Length 84 (-20.0)\n",
            "Episode 61/500: Length 22 (-95.0)\n",
            "Episode 81/500: Length 11 (-5.0)\n",
            "Episode 101/500: Length 20 (0.0)\n",
            "Episode 121/500: Length 11 (-10.0)\n",
            "Episode 141/500: Length 21 (5.0)\n",
            "Episode 161/500: Length 8 (-15.0)\n",
            "Episode 181/500: Length 9 (-10.0)\n",
            "Episode 201/500: Length 6 (-5.0)\n",
            "Episode 221/500: Length 10 (0.0)\n",
            "Episode 241/500: Length 11 (0.0)\n",
            "Episode 261/500: Length 6 (10.0)\n",
            "Episode 281/500: Length 8 (10.0)\n",
            "Episode 301/500: Length 6 (5.0)\n",
            "Episode 321/500: Length 7 (10.0)\n",
            "Episode 341/500: Length 6 (10.0)\n",
            "Episode 361/500: Length 6 (10.0)\n",
            "Episode 381/500: Length 7 (10.0)\n",
            "Episode 401/500: Length 6 (10.0)\n",
            "Episode 421/500: Length 6 (10.0)\n",
            "Episode 441/500: Length 6 (5.0)\n",
            "Episode 461/500: Length 6 (10.0)\n",
            "Episode 481/500: Length 6 (10.0)\n",
            "Episode 1/1: Length 6 (10.0)\n"
          ],
          "name": "stdout"
        }
      ]
    },
    {
      "metadata": {
        "id": "UoToZOycFsGX",
        "colab_type": "code",
        "colab": {
          "base_uri": "https://localhost:8080/",
          "height": 279
        },
        "outputId": "9ee38ef6-df98-4895-ac22-de800dd3cd15"
      },
      "cell_type": "code",
      "source": [
        "plot_stats(stats, window=10)"
      ],
      "execution_count": 271,
      "outputs": [
        {
          "output_type": "display_data",
          "data": {
            "image/png": "[encoded data removed]",
            "text/plain": [
              "<Figure size 1152x288 with 2 Axes>"
            ]
          },
          "metadata": {
            "tags": []
          }
        }
      ]
    },
    {
      "metadata": {
        "id": "yBGC8e3tGce_",
        "colab_type": "code",
        "colab": {
          "base_uri": "https://localhost:8080/",
          "height": 134
        },
        "outputId": "f68d08d4-0fcc-4110-b090-ca87e1c16127"
      },
      "cell_type": "code",
      "source": [
        "predict_actions"
      ],
      "execution_count": 272,
      "outputs": [
        {
          "output_type": "execute_result",
          "data": {
            "text/plain": [
              "[Transition(state=12, action=1, reward=0.0, next_state=13, discount=1.0),\n",
              " Transition(state=13, action=1, reward=0.0, next_state=14, discount=1.0),\n",
              " Transition(state=14, action=1, reward=0.0, next_state=15, discount=1.0),\n",
              " Transition(state=15, action=2, reward=0.0, next_state=25, discount=1.0),\n",
              " Transition(state=25, action=1, reward=0.0, next_state=26, discount=1.0),\n",
              " Transition(state=26, action=1, reward=0.0, next_state=27, discount=1.0),\n",
              " Transition(state=27, action=1, reward=10, next_state=22, discount=0.0)]"
            ]
          },
          "metadata": {
            "tags": []
          },
          "execution_count": 272
        }
      ]
    },
    {
      "metadata": {
        "id": "Xc3vJqITOgoy",
        "colab_type": "code",
        "colab": {
          "base_uri": "https://localhost:8080/",
          "height": 197
        },
        "outputId": "b3faf556-f54d-4f09-b818-7c2940b8121e"
      },
      "cell_type": "code",
      "source": [
        "pi = np.zeros(grid._layout_dims, dtype=np.int32)\n",
        "\n",
        "for i in range(len(predict_actions)):\n",
        "  step = int(predict_actions[i].state)\n",
        "  action = int(predict_actions[i].action) \n",
        "  y = int(step/10)\n",
        "  x = step%10\n",
        "  pi[y, x] = action\n",
        "  \n",
        "plot_policy(grid, pi)"
      ],
      "execution_count": 273,
      "outputs": [
        {
          "output_type": "display_data",
          "data": {
            "image/png": "[encoded data removed]",
            "text/plain": [
              "<Figure size 216x216 with 1 Axes>"
            ]
          },
          "metadata": {
            "tags": []
          }
        }
      ]
    }
  ]
}